{
 "cells": [
  {
   "cell_type": "code",
   "execution_count": 33,
   "metadata": {},
   "outputs": [
    {
     "name": "stdout",
     "output_type": "stream",
     "text": [
      "Using device: cpu\n"
     ]
    }
   ],
   "source": [
    "import torch\n",
    "import torch.nn as nn\n",
    "import torch.nn.functional as F\n",
    "import torchvision\n",
    "import torchvision.transforms as transforms\n",
    "from torch.utils.data import DataLoader\n",
    "from torchvision.datasets import MNIST\n",
    "import numpy as np\n",
    "import matplotlib.pyplot as plt\n",
    "import matplotlib as mpl\n",
    "import random\n",
    "import wandb\n",
    "from tqdm import tqdm\n",
    "\n",
    "device = torch.device(\"cuda:0\" if torch.cuda.is_available() else \"cpu\")\n",
    "print(f\"Using device: {device}\")\n"
   ]
  },
  {
   "cell_type": "code",
   "execution_count": 37,
   "metadata": {},
   "outputs": [],
   "source": [
    "mpl.style.use('seaborn-v0_8')"
   ]
  },
  {
   "cell_type": "code",
   "execution_count": 75,
   "metadata": {},
   "outputs": [],
   "source": [
    "\n",
    "class RotatedMNIST(MNIST):\n",
    "    def __init__(self, *args, min_rotation_angle = 0, max_rotation_angle=180, **kwargs):\n",
    "        super().__init__(*args, **kwargs)\n",
    "        self.max_rotation_angle = max_rotation_angle\n",
    "        self.min_rotation_angle = min_rotation_angle\n",
    "\n",
    "    def __getitem__(self, index):\n",
    "        img, target = super().__getitem__(index)\n",
    "        angle = random.uniform(self.min_rotation_angle, self.max_rotation_angle)\n",
    "        img = transforms.functional.rotate(img, angle)\n",
    "        return img, target\n",
    "\n",
    "class FilteredRotatedMNIST(RotatedMNIST):\n",
    "    def __init__(self, *args, excluded_labels=None, **kwargs):\n",
    "        super().__init__(*args, **kwargs)\n",
    "        self.excluded_labels = excluded_labels if excluded_labels else []\n",
    "        self.filtered_indices = [\n",
    "            index for index, label in enumerate(self.targets) if label not in self.excluded_labels\n",
    "        ]\n",
    "\n",
    "    def __getitem__(self, index):\n",
    "        index = self.filtered_indices[index]\n",
    "        return super().__getitem__(index)\n",
    "\n",
    "    def __len__(self):\n",
    "        return len(self.filtered_indices)\n",
    "\n",
    "\n",
    "\n",
    "class Net(nn.Module):\n",
    "    def __init__(self):\n",
    "        super(Net, self).__init__()\n",
    "        self.conv1 = nn.Conv2d(1, 32, 3, 1, 1)\n",
    "        self.pool = nn.MaxPool2d(2, 2)\n",
    "        self.fc1 = nn.Linear(32 * 14 * 14, 10)\n",
    "\n",
    "    def forward(self, x):\n",
    "        x = self.pool(F.relu(self.conv1(x)))\n",
    "        x = x.view(-1, 32 * 14 * 14)\n",
    "        x = self.fc1(x)\n",
    "        return x\n",
    "\n",
    "def visualize_rotated_images(images, labels, n=5):\n",
    "    fig, ax = plt.subplots(n, n, figsize=(8, 8))\n",
    "    for i in range(n):\n",
    "        for j in range(n):\n",
    "            idx = i * n + j\n",
    "            img = images[idx].numpy().squeeze()\n",
    "            ax[i, j].imshow(img, cmap='gray')\n",
    "            ax[i, j].set_title(f\"Label: {labels[idx]}\")\n",
    "            ax[i, j].axis('off')\n",
    "    plt.show()\n",
    "\n",
    "def cross_entropy_uniform(log_probs: torch.Tensor, labels):\n",
    "    n = log_probs.size(-1)\n",
    "    uniform_probs = torch.ones(n) / n\n",
    "    probs = log_probs.exp()\n",
    "    loss = -torch.sum(uniform_probs * probs.log()) / n\n",
    "    return loss\n"
   ]
  },
  {
   "cell_type": "code",
   "execution_count": 74,
   "metadata": {},
   "outputs": [
    {
     "data": {
      "text/plain": [
       "6"
      ]
     },
     "execution_count": 74,
     "metadata": {},
     "output_type": "execute_result"
    }
   ],
   "source": [
    "a = torch.ones((3,4,5,6))\n",
    "a.size(-1)"
   ]
  },
  {
   "cell_type": "code",
   "execution_count": 28,
   "metadata": {},
   "outputs": [
    {
     "data": {
      "text/html": [
       "Finishing last run (ID:3tgvvoih) before initializing another..."
      ],
      "text/plain": [
       "<IPython.core.display.HTML object>"
      ]
     },
     "metadata": {},
     "output_type": "display_data"
    },
    {
     "data": {
      "text/html": [
       "Waiting for W&B process to finish... <strong style=\"color:green\">(success).</strong>"
      ],
      "text/plain": [
       "<IPython.core.display.HTML object>"
      ]
     },
     "metadata": {},
     "output_type": "display_data"
    },
    {
     "data": {
      "application/vnd.jupyter.widget-view+json": {
       "model_id": "75eb3c25bb1a45b4b1f2fd808957524e",
       "version_major": 2,
       "version_minor": 0
      },
      "text/plain": [
       "VBox(children=(Label(value='0.001 MB of 0.030 MB uploaded (0.000 MB deduped)\\r'), FloatProgress(value=0.031741…"
      ]
     },
     "metadata": {},
     "output_type": "display_data"
    },
    {
     "data": {
      "text/html": [
       "<style>\n",
       "    table.wandb td:nth-child(1) { padding: 0 10px; text-align: left ; width: auto;} td:nth-child(2) {text-align: left ; width: 100%}\n",
       "    .wandb-row { display: flex; flex-direction: row; flex-wrap: wrap; justify-content: flex-start; width: 100% }\n",
       "    .wandb-col { display: flex; flex-direction: column; flex-basis: 100%; flex: 1; padding: 10px; }\n",
       "    </style>\n",
       "<div class=\"wandb-row\"><div class=\"wandb-col\"><h3>Run history:</h3><br/><table class=\"wandb\"><tr><td>Training Accuracy</td><td>▁▅▅▇▇▅▇▇▇▇▆▆▇▆▇█▆▇█▆██▇▇▆▇▆▇█▇▆▇█▆▆▆▇▆▆█</td></tr><tr><td>Training Loss</td><td>█▇▆▅▄▃▃▃▂▃▃▂▃▄▂▁▃▂▂▂▁▂▂▂▂▂▂▂▁▂▂▂▂▃▂▃▂▂▃▁</td></tr></table><br/></div><div class=\"wandb-col\"><h3>Run summary:</h3><br/><table class=\"wandb\"><tr><td>Training Accuracy</td><td>0.73</td></tr><tr><td>Training Loss</td><td>0.8193</td></tr></table><br/></div></div>"
      ],
      "text/plain": [
       "<IPython.core.display.HTML object>"
      ]
     },
     "metadata": {},
     "output_type": "display_data"
    },
    {
     "data": {
      "text/html": [
       "Synced <strong style=\"color:#cdcd00\">single_hidden_layer_cnn</strong>: <a href=\"https://wandb.ai/jake-mendel/rotated_mnist/runs/3tgvvoih\" target=\"_blank\">https://wandb.ai/jake-mendel/rotated_mnist/runs/3tgvvoih</a><br/>Synced 6 W&B file(s), 0 media file(s), 0 artifact file(s) and 0 other file(s)"
      ],
      "text/plain": [
       "<IPython.core.display.HTML object>"
      ]
     },
     "metadata": {},
     "output_type": "display_data"
    },
    {
     "data": {
      "text/html": [
       "Find logs at: <code>./wandb/run-20230505_174730-3tgvvoih/logs</code>"
      ],
      "text/plain": [
       "<IPython.core.display.HTML object>"
      ]
     },
     "metadata": {},
     "output_type": "display_data"
    },
    {
     "data": {
      "text/html": [
       "Successfully finished last run (ID:3tgvvoih). Initializing new run:<br/>"
      ],
      "text/plain": [
       "<IPython.core.display.HTML object>"
      ]
     },
     "metadata": {},
     "output_type": "display_data"
    },
    {
     "data": {
      "text/html": [
       "wandb version 0.15.1 is available!  To upgrade, please run:\n",
       " $ pip install wandb --upgrade"
      ],
      "text/plain": [
       "<IPython.core.display.HTML object>"
      ]
     },
     "metadata": {},
     "output_type": "display_data"
    },
    {
     "data": {
      "text/html": [
       "Tracking run with wandb version 0.13.7"
      ],
      "text/plain": [
       "<IPython.core.display.HTML object>"
      ]
     },
     "metadata": {},
     "output_type": "display_data"
    },
    {
     "data": {
      "text/html": [
       "Run data is saved locally in <code>/Users/jakemendel/Desktop/Code/Antilearning/wandb/run-20230505_174910-9m3wfmpn</code>"
      ],
      "text/plain": [
       "<IPython.core.display.HTML object>"
      ]
     },
     "metadata": {},
     "output_type": "display_data"
    },
    {
     "data": {
      "text/html": [
       "Syncing run <strong><a href=\"https://wandb.ai/jake-mendel/rotated_mnist/runs/9m3wfmpn\" target=\"_blank\">single_hidden_layer_cnn</a></strong> to <a href=\"https://wandb.ai/jake-mendel/rotated_mnist\" target=\"_blank\">Weights & Biases</a> (<a href=\"https://wandb.me/run\" target=\"_blank\">docs</a>)<br/>"
      ],
      "text/plain": [
       "<IPython.core.display.HTML object>"
      ]
     },
     "metadata": {},
     "output_type": "display_data"
    },
    {
     "name": "stdout",
     "output_type": "stream",
     "text": [
      "Epoch [1/10], Step [100/423], Loss: 0.7395479083061218\n",
      "Epoch [1/10], Step [200/423], Loss: 0.7941096425056458\n",
      "Epoch [1/10], Step [300/423], Loss: 0.7463122606277466\n",
      "Epoch [1/10], Step [400/423], Loss: 0.5430036783218384\n",
      "Epoch [2/10], Step [100/423], Loss: 0.4785492718219757\n",
      "Epoch [2/10], Step [200/423], Loss: 0.47228026390075684\n",
      "Epoch [2/10], Step [300/423], Loss: 0.3483141362667084\n",
      "Epoch [2/10], Step [400/423], Loss: 0.2984476089477539\n",
      "Epoch [3/10], Step [100/423], Loss: 0.32877156138420105\n",
      "Epoch [3/10], Step [200/423], Loss: 0.4237755239009857\n",
      "Epoch [3/10], Step [300/423], Loss: 0.2926998734474182\n",
      "Epoch [3/10], Step [400/423], Loss: 0.22595100104808807\n",
      "Epoch [4/10], Step [100/423], Loss: 0.27280980348587036\n",
      "Epoch [4/10], Step [200/423], Loss: 0.40933001041412354\n",
      "Epoch [4/10], Step [300/423], Loss: 0.3176997900009155\n",
      "Epoch [4/10], Step [400/423], Loss: 0.2815878391265869\n",
      "Epoch [5/10], Step [100/423], Loss: 0.2108759731054306\n",
      "Epoch [5/10], Step [200/423], Loss: 0.24769259989261627\n",
      "Epoch [5/10], Step [300/423], Loss: 0.24390213191509247\n",
      "Epoch [5/10], Step [400/423], Loss: 0.2732997238636017\n",
      "Epoch [6/10], Step [100/423], Loss: 0.2145242542028427\n",
      "Epoch [6/10], Step [200/423], Loss: 0.2312498539686203\n",
      "Epoch [6/10], Step [300/423], Loss: 0.2781512439250946\n",
      "Epoch [6/10], Step [400/423], Loss: 0.3029920160770416\n",
      "Epoch [7/10], Step [100/423], Loss: 0.29876527190208435\n",
      "Epoch [7/10], Step [200/423], Loss: 0.18339817225933075\n",
      "Epoch [7/10], Step [300/423], Loss: 0.2986685633659363\n",
      "Epoch [7/10], Step [400/423], Loss: 0.19939741492271423\n",
      "Epoch [8/10], Step [100/423], Loss: 0.22759224474430084\n",
      "Epoch [8/10], Step [200/423], Loss: 0.20386022329330444\n",
      "Epoch [8/10], Step [300/423], Loss: 0.12345525622367859\n",
      "Epoch [8/10], Step [400/423], Loss: 0.23567336797714233\n",
      "Epoch [9/10], Step [100/423], Loss: 0.28078559041023254\n",
      "Epoch [9/10], Step [200/423], Loss: 0.24136239290237427\n",
      "Epoch [9/10], Step [300/423], Loss: 0.21128292381763458\n",
      "Epoch [9/10], Step [400/423], Loss: 0.20968328416347504\n",
      "Epoch [10/10], Step [100/423], Loss: 0.2922379672527313\n",
      "Epoch [10/10], Step [200/423], Loss: 0.20289728045463562\n",
      "Epoch [10/10], Step [300/423], Loss: 0.1657968908548355\n",
      "Epoch [10/10], Step [400/423], Loss: 0.21020929515361786\n",
      "Accuracy of the model on the 7037 test images: 92.9657524513287%\n"
     ]
    },
    {
     "data": {
      "text/html": [
       "Waiting for W&B process to finish... <strong style=\"color:green\">(success).</strong>"
      ],
      "text/plain": [
       "<IPython.core.display.HTML object>"
      ]
     },
     "metadata": {},
     "output_type": "display_data"
    },
    {
     "data": {
      "application/vnd.jupyter.widget-view+json": {
       "model_id": "c040d795561547d086fc1c1e9301576b",
       "version_major": 2,
       "version_minor": 0
      },
      "text/plain": [
       "VBox(children=(Label(value='0.001 MB of 0.001 MB uploaded (0.000 MB deduped)\\r'), FloatProgress(value=1.0, max…"
      ]
     },
     "metadata": {},
     "output_type": "display_data"
    },
    {
     "data": {
      "text/html": [
       "<style>\n",
       "    table.wandb td:nth-child(1) { padding: 0 10px; text-align: left ; width: auto;} td:nth-child(2) {text-align: left ; width: 100%}\n",
       "    .wandb-row { display: flex; flex-direction: row; flex-wrap: wrap; justify-content: flex-start; width: 100% }\n",
       "    .wandb-col { display: flex; flex-direction: column; flex-basis: 100%; flex: 1; padding: 10px; }\n",
       "    </style>\n",
       "<div class=\"wandb-row\"><div class=\"wandb-col\"><h3>Run history:</h3><br/><table class=\"wandb\"><tr><td>Test Accuracy</td><td>▁</td></tr><tr><td>Training Accuracy</td><td>▁▁▃▃▅▆▇▅▆▆▆▇▇▆▆▇▆█▆▇▇▇▇▆▆▆▇▆▆▇▇█▇▇██▇█▇▆</td></tr><tr><td>Training Loss</td><td>▇█▆▅▅▃▃▄▂▄▃▂▂▃▃▂▃▁▃▂▂▁▂▂▃▂▁▃▂▁▂▁▂▂▁▁▂▂▂▂</td></tr></table><br/></div><div class=\"wandb-col\"><h3>Run summary:</h3><br/><table class=\"wandb\"><tr><td>Test Accuracy</td><td>92.96575</td></tr><tr><td>Training Accuracy</td><td>0.83117</td></tr><tr><td>Training Loss</td><td>0.44026</td></tr></table><br/></div></div>"
      ],
      "text/plain": [
       "<IPython.core.display.HTML object>"
      ]
     },
     "metadata": {},
     "output_type": "display_data"
    },
    {
     "data": {
      "text/html": [
       "Synced <strong style=\"color:#cdcd00\">single_hidden_layer_cnn</strong>: <a href=\"https://wandb.ai/jake-mendel/rotated_mnist/runs/9m3wfmpn\" target=\"_blank\">https://wandb.ai/jake-mendel/rotated_mnist/runs/9m3wfmpn</a><br/>Synced 6 W&B file(s), 0 media file(s), 0 artifact file(s) and 0 other file(s)"
      ],
      "text/plain": [
       "<IPython.core.display.HTML object>"
      ]
     },
     "metadata": {},
     "output_type": "display_data"
    },
    {
     "data": {
      "text/html": [
       "Find logs at: <code>./wandb/run-20230505_174910-9m3wfmpn/logs</code>"
      ],
      "text/plain": [
       "<IPython.core.display.HTML object>"
      ]
     },
     "metadata": {},
     "output_type": "display_data"
    }
   ],
   "source": [
    "\n",
    "# Hyperparameters\n",
    "batch_size = 100\n",
    "num_epochs = 10\n",
    "learning_rate = 0.01\n",
    "momentum = 0.9\n",
    "min_rotation_angle = 0\n",
    "max_rotation_angle = 180\n",
    "\n",
    "# Dataset and DataLoader\n",
    "transform = transforms.Compose([transforms.ToTensor()])\n",
    "x_dataset = FilteredRotatedMNIST(root='./data', train=True, download=True, transform=transform, min_rotation_angle = min_rotation_angle, max_rotation_angle=max_rotation_angle, excluded_labels=[0, 8, 9])\n",
    "x_loader = DataLoader(x_dataset, batch_size=batch_size, shuffle=True)\n",
    "y_dataset = FilteredRotatedMNIST(root='./data', train=True, download=True, transform=transform, min_rotation_angle = max_rotation_angle, max_rotation_angle=360-min_rotation_angle, excluded_labels=[0, 8, 9])\n",
    "y_loader = DataLoader(y_dataset, batch_size=batch_size, shuffle=True)\n",
    "\n",
    "# Log model architecture to Weights & Biases\n",
    "wandb.init(project=\"rotated_mnist\", name=\"single_hidden_layer_cnn\")\n",
    "\n",
    "# Model, Loss function, and Optimizer\n",
    "model = Net().to(device)\n",
    "criterion = nn.CrossEntropyLoss()\n",
    "optimizer = torch.optim.SGD(model.parameters(), lr=learning_rate, momentum=momentum)\n",
    "wandb.watch(model)\n",
    "\n",
    "# Training loop\n",
    "for epoch in range(num_epochs):\n",
    "    for i, (images, labels) in enumerate(x_loader):\n",
    "        images, labels = images.to(device), labels.to(device)\n",
    "        outputs = model(images)\n",
    "        loss = criterion(outputs, labels)\n",
    "\n",
    "        optimizer.zero_grad()\n",
    "        loss.backward()\n",
    "        optimizer.step()\n",
    "\n",
    "        _, predicted = torch.max(outputs.data, 1)\n",
    "        correct = (predicted == labels).sum().item()\n",
    "        batch_accuracy = correct / labels.size(0)\n",
    "\n",
    "        if (i+1) % 100 == 0:\n",
    "            print(f\"Epoch [{epoch+1}/{num_epochs}], Step [{i+1}/{len(x_loader)}], Loss: {loss.item()}\")\n",
    "\n",
    "        # Log training loss to Weights & Biases\n",
    "        wandb.log({\"Training Loss\": loss.item(), \"Training Accuracy\": batch_accuracy})\n",
    "\n",
    "# Testing the model with rotated images\n",
    "\n",
    "test_dataset = FilteredRotatedMNIST(root='./data', train=False, download=True, transform=transform, min_rotation_angle = min_rotation_angle, max_rotation_angle=max_rotation_angle, excluded_labels=[0, 8, 9])\n",
    "test_loader = DataLoader(test_dataset, batch_size=batch_size, shuffle=False)\n",
    "\n",
    "correct = 0\n",
    "total = 0\n",
    "with torch.no_grad():\n",
    "    for images, labels in test_loader:\n",
    "        images, labels = images.to(device), labels.to(device)\n",
    "        outputs = model(images)\n",
    "        _, predicted = torch.max(outputs.data, 1)\n",
    "        total += labels.size(0)\n",
    "        correct += (predicted == labels).sum().item()\n",
    "\n",
    "test_accuracy = 100 * correct / total\n",
    "print(f'Accuracy of the model on the {total} test images: {test_accuracy}%')\n",
    "\n",
    "# Log test accuracy to Weights & Biases\n",
    "wandb.log({\"Test Accuracy\": test_accuracy})\n",
    "\n",
    "# Finish logging\n",
    "wandb.finish()\n"
   ]
  },
  {
   "cell_type": "code",
   "execution_count": 69,
   "metadata": {},
   "outputs": [
    {
     "data": {
      "text/plain": [
       "False"
      ]
     },
     "execution_count": 69,
     "metadata": {},
     "output_type": "execute_result"
    }
   ],
   "source": [
    "bool(random.randint(0,1))"
   ]
  },
  {
   "cell_type": "code",
   "execution_count": 76,
   "metadata": {},
   "outputs": [
    {
     "data": {
      "text/html": [
       "Finishing last run (ID:3gb9cp3p) before initializing another..."
      ],
      "text/plain": [
       "<IPython.core.display.HTML object>"
      ]
     },
     "metadata": {},
     "output_type": "display_data"
    },
    {
     "data": {
      "text/html": [
       "Waiting for W&B process to finish... <strong style=\"color:green\">(success).</strong>"
      ],
      "text/plain": [
       "<IPython.core.display.HTML object>"
      ]
     },
     "metadata": {},
     "output_type": "display_data"
    },
    {
     "data": {
      "text/html": [
       "Synced <strong style=\"color:#cdcd00\">single_hidden_layer_cnn</strong>: <a href=\"https://wandb.ai/jake-mendel/rotated_mnist/runs/3gb9cp3p\" target=\"_blank\">https://wandb.ai/jake-mendel/rotated_mnist/runs/3gb9cp3p</a><br/>Synced 5 W&B file(s), 0 media file(s), 0 artifact file(s) and 0 other file(s)"
      ],
      "text/plain": [
       "<IPython.core.display.HTML object>"
      ]
     },
     "metadata": {},
     "output_type": "display_data"
    },
    {
     "data": {
      "text/html": [
       "Find logs at: <code>./wandb/run-20230505_182920-3gb9cp3p/logs</code>"
      ],
      "text/plain": [
       "<IPython.core.display.HTML object>"
      ]
     },
     "metadata": {},
     "output_type": "display_data"
    },
    {
     "data": {
      "text/html": [
       "Successfully finished last run (ID:3gb9cp3p). Initializing new run:<br/>"
      ],
      "text/plain": [
       "<IPython.core.display.HTML object>"
      ]
     },
     "metadata": {},
     "output_type": "display_data"
    },
    {
     "data": {
      "application/vnd.jupyter.widget-view+json": {
       "model_id": "ab19065285084ac6be658e8ef247b260",
       "version_major": 2,
       "version_minor": 0
      },
      "text/plain": [
       "VBox(children=(Label(value='Waiting for wandb.init()...\\r'), FloatProgress(value=0.01675497153332799, max=1.0)…"
      ]
     },
     "metadata": {},
     "output_type": "display_data"
    },
    {
     "data": {
      "text/html": [
       "wandb version 0.15.1 is available!  To upgrade, please run:\n",
       " $ pip install wandb --upgrade"
      ],
      "text/plain": [
       "<IPython.core.display.HTML object>"
      ]
     },
     "metadata": {},
     "output_type": "display_data"
    },
    {
     "data": {
      "text/html": [
       "Tracking run with wandb version 0.13.7"
      ],
      "text/plain": [
       "<IPython.core.display.HTML object>"
      ]
     },
     "metadata": {},
     "output_type": "display_data"
    },
    {
     "data": {
      "text/html": [
       "Run data is saved locally in <code>/Users/jakemendel/Desktop/Code/Antilearning/wandb/run-20230505_183034-2rqwre5t</code>"
      ],
      "text/plain": [
       "<IPython.core.display.HTML object>"
      ]
     },
     "metadata": {},
     "output_type": "display_data"
    },
    {
     "data": {
      "text/html": [
       "Syncing run <strong><a href=\"https://wandb.ai/jake-mendel/rotated_mnist/runs/2rqwre5t\" target=\"_blank\">single_hidden_layer_cnn</a></strong> to <a href=\"https://wandb.ai/jake-mendel/rotated_mnist\" target=\"_blank\">Weights & Biases</a> (<a href=\"https://wandb.me/run\" target=\"_blank\">docs</a>)<br/>"
      ],
      "text/plain": [
       "<IPython.core.display.HTML object>"
      ]
     },
     "metadata": {},
     "output_type": "display_data"
    },
    {
     "name": "stdout",
     "output_type": "stream",
     "text": [
      "Epoch [1/2], Step [100/423], Loss: nan\n",
      "Epoch [1/2], Step [200/423], Loss: nan\n",
      "Epoch [1/2], Step [300/423], Loss: nan\n",
      "Epoch [1/2], Step [400/423], Loss: nan\n",
      "Epoch [2/2], Step [100/423], Loss: nan\n",
      "Epoch [2/2], Step [200/423], Loss: nan\n",
      "Epoch [2/2], Step [300/423], Loss: nan\n",
      "Epoch [2/2], Step [400/423], Loss: nan\n",
      "Accuracy of the model on the 7037 test images: 0.0%\n"
     ]
    },
    {
     "data": {
      "text/html": [
       "Waiting for W&B process to finish... <strong style=\"color:green\">(success).</strong>"
      ],
      "text/plain": [
       "<IPython.core.display.HTML object>"
      ]
     },
     "metadata": {},
     "output_type": "display_data"
    },
    {
     "data": {
      "application/vnd.jupyter.widget-view+json": {
       "model_id": "8075f35662814c49accad4754e4bf7ea",
       "version_major": 2,
       "version_minor": 0
      },
      "text/plain": [
       "VBox(children=(Label(value='0.001 MB of 0.001 MB uploaded (0.000 MB deduped)\\r'), FloatProgress(value=1.0, max…"
      ]
     },
     "metadata": {},
     "output_type": "display_data"
    },
    {
     "data": {
      "text/html": [
       "<style>\n",
       "    table.wandb td:nth-child(1) { padding: 0 10px; text-align: left ; width: auto;} td:nth-child(2) {text-align: left ; width: 100%}\n",
       "    .wandb-row { display: flex; flex-direction: row; flex-wrap: wrap; justify-content: flex-start; width: 100% }\n",
       "    .wandb-col { display: flex; flex-direction: column; flex-basis: 100%; flex: 1; padding: 10px; }\n",
       "    </style>\n",
       "<div class=\"wandb-row\"><div class=\"wandb-col\"><h3>Run history:</h3><br/><table class=\"wandb\"><tr><td>Test Accuracy</td><td>▁</td></tr><tr><td>Training Accuracy</td><td>█▁▁▁▁▁▁▁▁▁▁▁▁▁▁▁▁▁▁▁▁▁▁▁▁▁▁▁▁▁▁▁▁▁▁▁▁▁▁▁</td></tr><tr><td>Training Loss</td><td>▁                                       </td></tr></table><br/></div><div class=\"wandb-col\"><h3>Run summary:</h3><br/><table class=\"wandb\"><tr><td>Test Accuracy</td><td>0.0</td></tr><tr><td>Training Accuracy</td><td>0.0</td></tr><tr><td>Training Loss</td><td>nan</td></tr></table><br/></div></div>"
      ],
      "text/plain": [
       "<IPython.core.display.HTML object>"
      ]
     },
     "metadata": {},
     "output_type": "display_data"
    },
    {
     "data": {
      "text/html": [
       "Synced <strong style=\"color:#cdcd00\">single_hidden_layer_cnn</strong>: <a href=\"https://wandb.ai/jake-mendel/rotated_mnist/runs/2rqwre5t\" target=\"_blank\">https://wandb.ai/jake-mendel/rotated_mnist/runs/2rqwre5t</a><br/>Synced 6 W&B file(s), 0 media file(s), 0 artifact file(s) and 0 other file(s)"
      ],
      "text/plain": [
       "<IPython.core.display.HTML object>"
      ]
     },
     "metadata": {},
     "output_type": "display_data"
    },
    {
     "data": {
      "text/html": [
       "Find logs at: <code>./wandb/run-20230505_183034-2rqwre5t/logs</code>"
      ],
      "text/plain": [
       "<IPython.core.display.HTML object>"
      ]
     },
     "metadata": {},
     "output_type": "display_data"
    }
   ],
   "source": [
    "\n",
    "# Hyperparameters\n",
    "batch_size = 100\n",
    "num_epochs = 2\n",
    "learning_rate = 0.01\n",
    "momentum = 0.9\n",
    "min_rotation_angle = 0\n",
    "max_rotation_angle = 180\n",
    "\n",
    "# Dataset and DataLoader\n",
    "transform = transforms.Compose([transforms.ToTensor()])\n",
    "x_dataset = FilteredRotatedMNIST(root='./data', train=True, download=True, transform=transform, min_rotation_angle = min_rotation_angle, max_rotation_angle=max_rotation_angle, excluded_labels=[0, 8, 9])\n",
    "x_loader = DataLoader(x_dataset, batch_size=batch_size, shuffle=True)\n",
    "y_dataset = FilteredRotatedMNIST(root='./data', train=True, download=True, transform=transform, min_rotation_angle = max_rotation_angle, max_rotation_angle=360-min_rotation_angle, excluded_labels=[0, 8, 9])\n",
    "y_loader = DataLoader(y_dataset, batch_size=batch_size, shuffle=True)\n",
    "\n",
    "# Log model architecture to Weights & Biases\n",
    "wandb.init(project=\"rotated_mnist\", name=\"single_hidden_layer_cnn\")\n",
    "\n",
    "# Model, Loss function, and Optimizer\n",
    "x_criterion = nn.CrossEntropyLoss()\n",
    "y_criterion = cross_entropy_uniform\n",
    "optimizer = torch.optim.SGD(model.parameters(), lr=learning_rate, momentum=momentum)\n",
    "wandb.watch(model)\n",
    "\n",
    "# Training loop\n",
    "for epoch in range(num_epochs):\n",
    "    for i, ((x_images, x_labels), (y_images, y_labels)) in enumerate(zip(x_loader, y_loader)):\n",
    "        is_x = random.randint(0,1)\n",
    "        if is_x:\n",
    "            images, labels, criterion = x_images, x_labels, x_criterion\n",
    "        else:\n",
    "            images, labels, criterion = y_images, y_labels, y_criterion\n",
    "        images, labels = images.to(device), labels.to(device)\n",
    "        outputs = model(images)\n",
    "        loss = criterion(outputs, labels)\n",
    "\n",
    "        optimizer.zero_grad()\n",
    "        loss.backward()\n",
    "        optimizer.step()\n",
    "\n",
    "        _, predicted = torch.max(outputs.data, 1)\n",
    "        correct = (predicted == labels).sum().item()\n",
    "        batch_accuracy = correct / labels.size(0)\n",
    "\n",
    "        if (i+1) % 100 == 0:\n",
    "            print(f\"Epoch [{epoch+1}/{num_epochs}], Step [{i+1}/{len(x_loader)}], Loss: {loss.item()}\")\n",
    "\n",
    "        # Log training loss to Weights & Biases\n",
    "        if is_x:\n",
    "            wandb.log({\"X Training Loss\": loss.item(), \"X Training Accuracy\": batch_accuracy})\n",
    "        else:\n",
    "            wandb.log({\"Y Training Loss\": loss.item(), \"Y Training Accuracy\": batch_accuracy})\n",
    "\n",
    "# Testing the model with rotated images\n",
    "\n",
    "test_dataset = FilteredRotatedMNIST(root='./data', train=False, download=True, transform=transform, min_rotation_angle = min_rotation_angle, max_rotation_angle=max_rotation_angle, excluded_labels=[0, 8, 9])\n",
    "test_loader = DataLoader(test_dataset, batch_size=batch_size, shuffle=False)\n",
    "\n",
    "correct = 0\n",
    "total = 0\n",
    "with torch.no_grad():\n",
    "    for images, labels in test_loader:\n",
    "        images, labels = images.to(device), labels.to(device)\n",
    "        outputs = model(images)\n",
    "        _, predicted = torch.max(outputs.data, 1)\n",
    "        total += labels.size(0)\n",
    "        correct += (predicted == labels).sum().item()\n",
    "\n",
    "test_accuracy = 100 * correct / total\n",
    "print(f'Accuracy of the model on the {total} test images: {test_accuracy}%')\n",
    "\n",
    "# Log test accuracy to Weights & Biases\n",
    "wandb.log({\"Test Accuracy\": test_accuracy})\n",
    "\n",
    "# Finish logging\n",
    "wandb.finish()\n"
   ]
  },
  {
   "cell_type": "code",
   "execution_count": 32,
   "metadata": {},
   "outputs": [
    {
     "name": "stdout",
     "output_type": "stream",
     "text": [
      "Accuracy of the model on the 7037 test images: 29.486997299985788%\n"
     ]
    }
   ],
   "source": [
    "test_dataset = FilteredRotatedMNIST(root='./data', train=False, download=True, transform=transform, min_rotation_angle = 90, max_rotation_angle = 90, excluded_labels=[0, 8, 9])\n",
    "test_loader = DataLoader(test_dataset, batch_size=batch_size, shuffle=False)\n",
    "\n",
    "correct = 0\n",
    "total = 0\n",
    "with torch.no_grad():\n",
    "    for images, labels in test_loader:\n",
    "        images, labels = images.to(device), labels.to(device)\n",
    "        outputs = model(images)\n",
    "        _, predicted = torch.max(outputs.data, 1)\n",
    "        total += labels.size(0)\n",
    "        correct += (predicted == labels).sum().item()\n",
    "\n",
    "test_accuracy = 100 * correct / total\n",
    "print(f'Accuracy of the model on the {total} test images: {test_accuracy}%')"
   ]
  },
  {
   "cell_type": "code",
   "execution_count": 38,
   "metadata": {},
   "outputs": [
    {
     "name": "stderr",
     "output_type": "stream",
     "text": [
      "100%|██████████| 18/18 [00:54<00:00,  3.04s/it]\n"
     ]
    },
    {
     "data": {
      "text/plain": [
       "[<matplotlib.lines.Line2D at 0x7f79c8c1ca30>]"
      ]
     },
     "execution_count": 38,
     "metadata": {},
     "output_type": "execute_result"
    },
    {
     "data": {
      "image/png": "[encoded data removed]",
      "text/plain": [
       "<Figure size 576x396 with 1 Axes>"
      ]
     },
     "metadata": {},
     "output_type": "display_data"
    }
   ],
   "source": [
    "accuracies = []\n",
    "angles = list(range(0,360,20))\n",
    "for angle in tqdm(angles):\n",
    "    test_dataset = FilteredRotatedMNIST(root='./data', train=False, download=True, transform=transform, min_rotation_angle = angle, max_rotation_angle = angle, excluded_labels=[0, 8, 9])\n",
    "    test_loader = DataLoader(test_dataset, batch_size=batch_size, shuffle=False)\n",
    "\n",
    "    correct = 0\n",
    "    total = 0\n",
    "    with torch.no_grad():\n",
    "        for images, labels in test_loader:\n",
    "            images, labels = images.to(device), labels.to(device)\n",
    "            outputs = model(images)\n",
    "            _, predicted = torch.max(outputs.data, 1)\n",
    "            total += labels.size(0)\n",
    "            correct += (predicted == labels).sum().item()\n",
    "\n",
    "    test_accuracy = 100 * correct / total\n",
    "    accuracies.append(test_accuracy)\n",
    "plt.plot(angles, accuracies)"
   ]
  },
  {
   "cell_type": "code",
   "execution_count": 50,
   "metadata": {},
   "outputs": [
    {
     "data": {
      "image/png": "[encoded data removed]",
      "text/plain": [
       "<Figure size 576x396 with 1 Axes>"
      ]
     },
     "metadata": {},
     "output_type": "display_data"
    }
   ],
   "source": [
    "plt.vlines(180, min(accuracies), max(accuracies),'lightgray','--')\n",
    "plt.plot(angles, accuracies)\n",
    "plt.xlabel('Angle')\n",
    "plt.ylabel('Test accuracy')\n",
    "plt.show()"
   ]
  },
  {
   "attachments": {},
   "cell_type": "markdown",
   "metadata": {},
   "source": [
    "It seems like the model, when trained on images rotated between 0 and 360 degrees clockwise, performs best at 90 degrees and worst at 270 degrees. Generalises a bit - does better than random (14%) but a lot worse than the other side."
   ]
  },
  {
   "cell_type": "code",
   "execution_count": null,
   "metadata": {},
   "outputs": [],
   "source": [
    "\n",
    "# Visualize rotated images\n",
    "images, labels = next(iter(test_loader))\n",
    "visualize_rotated_images(images, labels)"
   ]
  },
  {
   "cell_type": "code",
   "execution_count": 18,
   "metadata": {},
   "outputs": [
    {
     "data": {
      "image/png": "[encoded data removed]",
      "text/plain": [
       "<Figure size 576x576 with 25 Axes>"
      ]
     },
     "metadata": {
      "needs_background": "light"
     },
     "output_type": "display_data"
    }
   ],
   "source": [
    "transform = transforms.Compose([transforms.ToTensor()])\n",
    "batch_size = 100\n",
    "x_dataset = FilteredRotatedMNIST(root='./data', train=True, download=True, transform=transform, min_rotation_angle = 90, max_rotation_angle=90, excluded_labels=[0, 8, 9])\n",
    "train_loader = DataLoader(x_dataset, batch_size=batch_size, shuffle=True)\n",
    "images, labels = next(iter(train_loader))\n",
    "visualize_rotated_images(images, labels)"
   ]
  }
 ],
 "metadata": {
  "kernelspec": {
   "display_name": "base",
   "language": "python",
   "name": "python3"
  },
  "language_info": {
   "codemirror_mode": {
    "name": "ipython",
    "version": 3
   },
   "file_extension": ".py",
   "mimetype": "text/x-python",
   "name": "python",
   "nbconvert_exporter": "python",
   "pygments_lexer": "ipython3",
   "version": "3.9.7"
  },
  "orig_nbformat": 4
 },
 "nbformat": 4,
 "nbformat_minor": 2
}
